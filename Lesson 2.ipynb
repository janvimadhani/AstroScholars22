{
 "cells": [
  {
   "cell_type": "markdown",
   "metadata": {},
   "source": [
    "# Introduction to Python Programming: Day 2\n",
    "1. Python as a Calculator\n",
    "2. Types\n",
    "3. Iteration"
   ]
  },
  {
   "cell_type": "markdown",
   "metadata": {},
   "source": [
    "### Relevant Libraries to Import\n",
    "`numpy` is a mathematical library that includes common mathematical functions, random number generators, linear algebra routines, Fourier transforms, and more\n",
    "<br/>\n",
    "`scipy` algorithms for optimization, integration, interpolation, eigenvalue problems, algebraic equations, differential equations, statistics and more\n",
    "<br/>\n",
    "`matplotlib` comprehensive library for creating static, animated, and interactive visualizations in Python\n",
    "<br/>\n",
    "`astropy` a collection of community written software packages designed for use in Astronomy\n"
   ]
  },
  {
   "cell_type": "code",
   "execution_count": 21,
   "metadata": {},
   "outputs": [
    {
     "name": "stdout",
     "output_type": "stream",
     "text": [
      "4\n"
     ]
    }
   ],
   "source": [
    "print(a)"
   ]
  },
  {
   "cell_type": "code",
   "execution_count": 6,
   "metadata": {},
   "outputs": [],
   "source": [
    "#import the entire library\n",
    "import numpy as np\n",
    "import scipy as sc\n",
    "\n",
    "#import specific modules from the library\n",
    "import matplotlib.pyplot as plt\n",
    "import astropy.units as u\n",
    "\n",
    "#what you don't want to do is this:\n",
    "#the following import will import all of numpy, \n",
    "#but won't give you any way to track which functions you're using from this library\n",
    "\n",
    "#import numpy "
   ]
  },
  {
   "cell_type": "code",
   "execution_count": 10,
   "metadata": {},
   "outputs": [
    {
     "name": "stdout",
     "output_type": "stream",
     "text": [
      "1.5 kg / m\n"
     ]
    }
   ],
   "source": [
    "a = 3*u.kg\n",
    "b = 2*u.m\n",
    "c = a/b\n",
    "print(c)"
   ]
  },
  {
   "cell_type": "markdown",
   "metadata": {},
   "source": [
    "## Use Python as a Calculator"
   ]
  },
  {
   "cell_type": "code",
   "execution_count": 11,
   "metadata": {},
   "outputs": [
    {
     "data": {
      "text/plain": [
       "7"
      ]
     },
     "execution_count": 11,
     "metadata": {},
     "output_type": "execute_result"
    }
   ],
   "source": [
    "3+4"
   ]
  },
  {
   "cell_type": "markdown",
   "metadata": {},
   "source": [
    "It will only return the last operation in the cell, unless you ask it to explicitly `print` "
   ]
  },
  {
   "cell_type": "code",
   "execution_count": 12,
   "metadata": {},
   "outputs": [
    {
     "data": {
      "text/plain": [
       "10"
      ]
     },
     "execution_count": 12,
     "metadata": {},
     "output_type": "execute_result"
    }
   ],
   "source": [
    "3+4\n",
    "5+5"
   ]
  },
  {
   "cell_type": "code",
   "execution_count": 13,
   "metadata": {},
   "outputs": [
    {
     "name": "stdout",
     "output_type": "stream",
     "text": [
      "7\n",
      "10\n"
     ]
    }
   ],
   "source": [
    "print(3+4)\n",
    "print(5+5)"
   ]
  },
  {
   "cell_type": "markdown",
   "metadata": {},
   "source": [
    "Exponents $x^y$ are written as, `x**y`"
   ]
  },
  {
   "cell_type": "code",
   "execution_count": 14,
   "metadata": {},
   "outputs": [
    {
     "data": {
      "text/plain": [
       "9"
      ]
     },
     "execution_count": 14,
     "metadata": {},
     "output_type": "execute_result"
    }
   ],
   "source": [
    "3**2"
   ]
  },
  {
   "cell_type": "markdown",
   "metadata": {},
   "source": [
    "#### Try something more complicated by obeying the order of operations PEMDAS\n",
    "Parenthesis, Exponents, Multiplication, Division, Addition, Subtraction"
   ]
  },
  {
   "cell_type": "markdown",
   "metadata": {},
   "source": [
    "Let's calculate $ (1+1)^2 + 2*2 $"
   ]
  },
  {
   "cell_type": "code",
   "execution_count": 17,
   "metadata": {},
   "outputs": [],
   "source": [
    "#First, do it by hand, then run this cell to see that Python obeys the order of operations\n",
    "a = (1+1)**2 + (2*2)"
   ]
  },
  {
   "cell_type": "code",
   "execution_count": 18,
   "metadata": {},
   "outputs": [
    {
     "name": "stdout",
     "output_type": "stream",
     "text": [
      "8\n"
     ]
    }
   ],
   "source": [
    "#Once you assign a value to a variable, you can access it from any other cell, as long as you don't reuse the \n",
    "#same variable and assign it to a different value\n",
    "print(a)"
   ]
  },
  {
   "cell_type": "code",
   "execution_count": 19,
   "metadata": {},
   "outputs": [],
   "source": [
    "#here, we reuse the same variable a and assign it to a different value, it will no longer hold the previous value\n",
    "a = 4 "
   ]
  },
  {
   "cell_type": "code",
   "execution_count": 20,
   "metadata": {},
   "outputs": [
    {
     "name": "stdout",
     "output_type": "stream",
     "text": [
      "4\n"
     ]
    }
   ],
   "source": [
    "print(a)"
   ]
  },
  {
   "cell_type": "markdown",
   "metadata": {},
   "source": [
    "## Types"
   ]
  },
  {
   "cell_type": "markdown",
   "metadata": {},
   "source": [
    "Text type: `str`\n",
    "<br/>\n",
    "Numeric types: `int`, `float`, `complex`\n",
    "<br/>\n",
    "Sequence types: `list`, `tuple`, `range`\n",
    "<br/>\n",
    "Mapping type: `dict`\n",
    "<br/>\n",
    "Boolean type: `bool`"
   ]
  },
  {
   "cell_type": "code",
   "execution_count": null,
   "metadata": {},
   "outputs": [],
   "source": [
    "str_type = 'Hello, World!'\n",
    "int_type = 1\n",
    "float_type = 1.2\n",
    "complex_type = 1j + 1\n",
    "list_type = [1,2,3]\n",
    "tuple_type = (1,2)\n",
    "range_type = (range(3))\n",
    "map_type = {'key':'value'}\n",
    "bool_type = True"
   ]
  },
  {
   "cell_type": "markdown",
   "metadata": {},
   "source": [
    "To check the type of something:"
   ]
  },
  {
   "cell_type": "code",
   "execution_count": null,
   "metadata": {},
   "outputs": [],
   "source": [
    "print(type(1))"
   ]
  },
  {
   "cell_type": "markdown",
   "metadata": {},
   "source": [
    "## Exercise 1:\n",
    "Check the type of the variables defined above"
   ]
  },
  {
   "cell_type": "code",
   "execution_count": null,
   "metadata": {},
   "outputs": [],
   "source": []
  },
  {
   "cell_type": "markdown",
   "metadata": {},
   "source": [
    "Explicitly set the type of something by enclosing your value within a parentheses followed by the type.\n",
    "For example, `z = str('100')` sets the value of `z` to the text string `100`"
   ]
  },
  {
   "cell_type": "code",
   "execution_count": 23,
   "metadata": {},
   "outputs": [
    {
     "name": "stdout",
     "output_type": "stream",
     "text": [
      "100\n",
      "<class 'str'>\n"
     ]
    }
   ],
   "source": [
    "z = str(100)\n",
    "print(z)\n",
    "print(type(z))"
   ]
  },
  {
   "cell_type": "markdown",
   "metadata": {},
   "source": [
    "## Exercise 1.1:\n",
    "Assign three variables, x, y, z, to three types of the number 3, string, float, and integer. Then print each one out and check the type to see if it looks as expected."
   ]
  },
  {
   "cell_type": "code",
   "execution_count": null,
   "metadata": {},
   "outputs": [],
   "source": []
  },
  {
   "cell_type": "markdown",
   "metadata": {},
   "source": [
    " ## Let's work with two useful 'types', lists and strings! "
   ]
  },
  {
   "cell_type": "markdown",
   "metadata": {},
   "source": [
    "Lists are used to store multiple items in a single variable. \n",
    "They are one of 4 built-in data types in Python used to store collections of data. The others include tuples, dictionaries, and sets. \n",
    "They are easy to index are mutable and can be turned into arrays to perform mathematical functions on. They can be made of any data types. "
   ]
  },
  {
   "cell_type": "code",
   "execution_count": null,
   "metadata": {},
   "outputs": [],
   "source": [
    "list1 = [\"apple\", \"banana\", \"orange\"] #a list made of strings\n",
    "list2 = [1, 5, 7, 9, 3] #a list made of integers\n",
    "list3 = [True, False, False] #a list made of boolean values"
   ]
  },
  {
   "cell_type": "markdown",
   "metadata": {},
   "source": [
    "To check the length, the number of items, in a list, Python has a useful built in function `len`.\n",
    "<br/>\n",
    "Let's check the length of the first list, which we know has three items in it:"
   ]
  },
  {
   "cell_type": "code",
   "execution_count": null,
   "metadata": {},
   "outputs": [],
   "source": [
    "len(list1)"
   ]
  },
  {
   "cell_type": "markdown",
   "metadata": {},
   "source": [
    "## Indexing\n",
    "Let's say you want to access the 3rd value in a list, to check what it is, to modify it, etc.\n",
    "You use the \"index\" of the value you want to access to tell Python to return the value located at that index back to you. In Python, the first value in any sequence is assigned the index 0. \n",
    "\n",
    "<br/>\n",
    "Let's print the third value in list 2, which will have the index value of 2. "
   ]
  },
  {
   "cell_type": "code",
   "execution_count": null,
   "metadata": {},
   "outputs": [],
   "source": [
    "print(list2[2])"
   ]
  },
  {
   "cell_type": "markdown",
   "metadata": {},
   "source": [
    "Now, let's modify the value to be something else."
   ]
  },
  {
   "cell_type": "code",
   "execution_count": null,
   "metadata": {},
   "outputs": [],
   "source": [
    "list2[2] = 10"
   ]
  },
  {
   "cell_type": "markdown",
   "metadata": {},
   "source": [
    "Let's check if the third value has been replaced as we expect."
   ]
  },
  {
   "cell_type": "code",
   "execution_count": null,
   "metadata": {},
   "outputs": [],
   "source": [
    "print(list2)"
   ]
  },
  {
   "cell_type": "markdown",
   "metadata": {},
   "source": [
    "Sometimes, it is useful to access multiple values at a time. You do this by using a method called \"slicing\". \n",
    "You can specify the start and stop index values by placing them in a bracket like this, `list[start:stop]` to access the values in between, start index is included, stop index is excluded. \n",
    "<br/>\n",
    "Let's replace the 2nd to 4th value of list2 with zeros.\n",
    "<br/>\n",
    "First, let's see what happens when we access multiple values at once."
   ]
  },
  {
   "cell_type": "code",
   "execution_count": null,
   "metadata": {},
   "outputs": [],
   "source": [
    "print(list2[1:4])"
   ]
  },
  {
   "cell_type": "markdown",
   "metadata": {},
   "source": [
    "We get back three individual values, so we will have to provide three new values to replace them. In Python, you can assign values to multiple items at once by delimiting values with commas. "
   ]
  },
  {
   "cell_type": "code",
   "execution_count": null,
   "metadata": {},
   "outputs": [],
   "source": [
    "list2[1:4] = 0,0,0\n",
    "print(list2)"
   ]
  },
  {
   "cell_type": "markdown",
   "metadata": {},
   "source": [
    "### Exercise 2:\n",
    "Let's replace the last two values in list3 to also be `True`. "
   ]
  },
  {
   "cell_type": "code",
   "execution_count": null,
   "metadata": {},
   "outputs": [],
   "source": []
  },
  {
   "cell_type": "markdown",
   "metadata": {},
   "source": [
    "## Strings"
   ]
  },
  {
   "cell_type": "markdown",
   "metadata": {},
   "source": [
    "Strings are a text data type. You can create them by surrounding text by single or double quotes. \n",
    "In the same way as lists, you can use square brackets to access, index, elements of the string, however, you cannot change the value, because strings are \"immutable\"."
   ]
  },
  {
   "cell_type": "code",
   "execution_count": null,
   "metadata": {},
   "outputs": [],
   "source": [
    "print('Hello')\n",
    "print(\"Hello\")"
   ]
  },
  {
   "cell_type": "markdown",
   "metadata": {},
   "source": [
    "Let's say you made a typo in your string, and you try to use indexing to reassign the value you mistyped. "
   ]
  },
  {
   "cell_type": "code",
   "execution_count": null,
   "metadata": {
    "scrolled": true
   },
   "outputs": [],
   "source": [
    "a = 'Hell0'\n",
    "print(a)\n",
    "\n",
    "#look at the element that has the typo\n",
    "print(a[4])"
   ]
  },
  {
   "cell_type": "markdown",
   "metadata": {},
   "source": [
    "What happens when you try to fix your typo?"
   ]
  },
  {
   "cell_type": "code",
   "execution_count": null,
   "metadata": {},
   "outputs": [],
   "source": [
    "a[4] = 'o'\n",
    "print(a)"
   ]
  },
  {
   "cell_type": "markdown",
   "metadata": {},
   "source": [
    "This is what is meant by immutable. You cannot change the elements after assignment. However, you can reassign a completely new value to the same variable."
   ]
  },
  {
   "cell_type": "code",
   "execution_count": null,
   "metadata": {},
   "outputs": [],
   "source": [
    "a = \"Hello\"\n",
    "print(a)"
   ]
  },
  {
   "cell_type": "markdown",
   "metadata": {},
   "source": [
    "We can modify the following string to include an exclamation point by using a `+` operator using a method called concatenation."
   ]
  },
  {
   "cell_type": "code",
   "execution_count": null,
   "metadata": {
    "scrolled": true
   },
   "outputs": [],
   "source": [
    "b = 'Hello'\n",
    "print(b)\n",
    "b = b + '!'\n",
    "print(b)"
   ]
  },
  {
   "cell_type": "markdown",
   "metadata": {},
   "source": [
    "## Exercise 3:\n",
    "Change the values of list1 to be plural. First, you will need to index the correct element, then you will need to use concatenation to add an `s` to the end of the word. Avoid explicitly reassigning the value to the plural form so that you can practice concatenation."
   ]
  },
  {
   "cell_type": "code",
   "execution_count": null,
   "metadata": {},
   "outputs": [],
   "source": [
    "print(list1)"
   ]
  },
  {
   "cell_type": "code",
   "execution_count": null,
   "metadata": {},
   "outputs": [],
   "source": [
    "list1[0] = list1[0] + 's'\n",
    "list1[1] = list1[1] + 's'\n",
    "list1[2] = list1[2] + 's'"
   ]
  },
  {
   "cell_type": "code",
   "execution_count": null,
   "metadata": {},
   "outputs": [],
   "source": [
    "print(list1)"
   ]
  },
  {
   "cell_type": "markdown",
   "metadata": {},
   "source": [
    "## Loops and Iteration"
   ]
  },
  {
   "cell_type": "markdown",
   "metadata": {},
   "source": [
    "Loops are a powerful tool to iterate, step through, large arrays of data sequentially or to repeatedly perform a task. The most commonly used loops are known as for loops, while loops and if/else statements. \n",
    "<br/>\n",
    "<br/>\n",
    "`for` loops: are used for sequentially stepping through an item of length n. For example, a list, string, or array. Inside the loop, you can use the \"iterator\" to do a task n times.\n",
    "<br/>\n",
    "<br/>\n",
    "`while` loops: used to execute a block of statements repeatedly until a given a condition is satisfied, i.e. the loop executes as long as a given condition is `True`. And when the condition becomes `False`, the loop will stop running at this point. \n",
    "<br/>\n",
    "<br/>\n",
    "`if` / `else` statements: this is conditional form of a loop where a block of code is executed if the condition specified by `if` is satisified, and if not, the block of code specified by `else` is executed. These statements can be combined with `for` and `while` loops to execute code in very specific conditions."
   ]
  },
  {
   "cell_type": "markdown",
   "metadata": {},
   "source": [
    "Let's focus on `for` loops! We will use the built in function `range` to get a sequence of values"
   ]
  },
  {
   "cell_type": "code",
   "execution_count": null,
   "metadata": {},
   "outputs": [],
   "source": [
    "#what does this python object look like?\n",
    "print(range(10))\n",
    "\n",
    "#how many elements are in it?\n",
    "print(len(range(10)))"
   ]
  },
  {
   "cell_type": "code",
   "execution_count": null,
   "metadata": {},
   "outputs": [],
   "source": [
    "#in this example, iterator is the element that is stepping through the collection of elements specifed by range\n",
    "\n",
    "for iterator in range(10):\n",
    "    print(iterator)"
   ]
  },
  {
   "cell_type": "markdown",
   "metadata": {},
   "source": [
    "Let's apply a for loop to one of our lists."
   ]
  },
  {
   "cell_type": "code",
   "execution_count": null,
   "metadata": {},
   "outputs": [],
   "source": [
    "for element in list1:\n",
    "    print(element)"
   ]
  },
  {
   "cell_type": "markdown",
   "metadata": {},
   "source": [
    "What if you want to modify all the elements in a list sequentially?\n",
    "In order to modify, you need to index! In order to index, you need to step through numbers and not elements. \n",
    "We can do this in one go by using the correct order of parentheses. "
   ]
  },
  {
   "cell_type": "code",
   "execution_count": null,
   "metadata": {},
   "outputs": [],
   "source": [
    "for index in range(len(list1)):\n",
    "    list1[index] = list1[index] + '!'\n",
    "    "
   ]
  },
  {
   "cell_type": "code",
   "execution_count": null,
   "metadata": {},
   "outputs": [],
   "source": [
    "print(list1)"
   ]
  },
  {
   "cell_type": "markdown",
   "metadata": {},
   "source": [
    "## Exercise 4:\n",
    "Write a list that has four numbers in it. Then, use a for loop to print each number squared."
   ]
  },
  {
   "cell_type": "code",
   "execution_count": null,
   "metadata": {},
   "outputs": [],
   "source": []
  },
  {
   "cell_type": "code",
   "execution_count": null,
   "metadata": {},
   "outputs": [],
   "source": []
  },
  {
   "cell_type": "code",
   "execution_count": null,
   "metadata": {},
   "outputs": [],
   "source": []
  }
 ],
 "metadata": {
  "kernelspec": {
   "display_name": "Python 3",
   "language": "python",
   "name": "python3"
  },
  "language_info": {
   "codemirror_mode": {
    "name": "ipython",
    "version": 3
   },
   "file_extension": ".py",
   "mimetype": "text/x-python",
   "name": "python",
   "nbconvert_exporter": "python",
   "pygments_lexer": "ipython3",
   "version": "3.7.4"
  }
 },
 "nbformat": 4,
 "nbformat_minor": 2
}
