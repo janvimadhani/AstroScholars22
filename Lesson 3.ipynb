{
 "cells": [
  {
   "cell_type": "markdown",
   "metadata": {},
   "source": [
    "# Introduction to Python Programming: Day 3\n",
    "1. Numpy Arrays\n",
    "2. Matplotlib Basic Plots"
   ]
  },
  {
   "cell_type": "markdown",
   "metadata": {},
   "source": [
    "### Import relevant libraries\n"
   ]
  },
  {
   "cell_type": "code",
   "execution_count": null,
   "metadata": {},
   "outputs": [],
   "source": [
    "import numpy as np\n",
    "import matplotlib.pyplot as plt\n",
    "import matplotlib.image as im"
   ]
  },
  {
   "cell_type": "markdown",
   "metadata": {},
   "source": [
    "## Basic Plot\n",
    "Let's say you want to plot an image:\n",
    "<br/>\n",
    "1. You have to read the image to get the pixel values at each location. \n",
    "2. Then you use `matplotlib` to plot a 2D array of data."
   ]
  },
  {
   "cell_type": "markdown",
   "metadata": {},
   "source": [
    "Let's read the data first!"
   ]
  },
  {
   "cell_type": "code",
   "execution_count": null,
   "metadata": {},
   "outputs": [],
   "source": [
    "# load image as pixel array\n",
    "image = im.imread('sombrerogalaxy.jpeg')\n",
    "# summarize shape of the pixel array\n",
    "print(image.dtype)\n",
    "print(image.shape)"
   ]
  },
  {
   "cell_type": "markdown",
   "metadata": {},
   "source": [
    "What does the shape tell you? It tells you that we have a 717 x 1280 array of pixels, and each pixel has 3 values corresponding to RGB. "
   ]
  },
  {
   "cell_type": "markdown",
   "metadata": {},
   "source": [
    "Let's plot it!"
   ]
  },
  {
   "cell_type": "code",
   "execution_count": null,
   "metadata": {},
   "outputs": [],
   "source": [
    "fig, ax = plt.subplots(figsize=[12,6]) \n",
    "\n",
    "gal_img = ax.imshow(image,origin='lower')\n",
    "\n",
    "plt.show()\n",
    "#plt.savefig('galaxy.jpg')"
   ]
  },
  {
   "cell_type": "markdown",
   "metadata": {},
   "source": [
    "### Break down how matplotlib is plotting:\n",
    "1. In `plt.subplots`, we specify that we want to create a figure, `fig`, we want to get back a set of axes, `ax`, that we can modify if needed, and we want the figure to be a specific size (in inches). Another argument we could have included is the number of axes we want to create, i.e. let's say we want a figure that has three plots vertically stacked on each other, we would specify that our figure should have 3 rows and 1 column, by doing `plt.subplots(3,1,figsize=[some dimensions]`\n",
    "2. We use the plotting command to tell `matplotlib` that we want to plot a 2D array, an array where each pixel has an x, y, coordinate and holds information about the value of the pixel at that coordinate, by using the `imshow` command. For 1D information, like a plot of x vs. y data, we would replace this command with `ax.plot(x,y)`. \n",
    "3. Finally, we tell `matplotlib` that we are done setting up our plot and we want to visualize it. This will display the plot in our own notebook. \n",
    "4. An additional step we could take after this point, is `plt.savefig('name of file and extension')`, this will save the plot to your current directory (folder). "
   ]
  },
  {
   "cell_type": "markdown",
   "metadata": {},
   "source": [
    "## Arrays\n",
    "\n",
    "Arrays are at the heart of computing. They can hold many values under a single name, and you can access the values by referring to an index number. You can do operations on all the values in an array at once, you can loop through individual values, you can mathematically operate on multiple arrays at once -- they are a really efficient way to work with a lot of data at once!\n",
    "<br/>\n",
    "<br/>\n",
    "To work with arrays, we use the library `NumPy`"
   ]
  },
  {
   "cell_type": "code",
   "execution_count": null,
   "metadata": {},
   "outputs": [],
   "source": [
    "arr = np.array([1, 2, 3, 4, 5])\n",
    "\n",
    "print(arr)\n",
    "\n",
    "print(type(arr))\n",
    "\n",
    "print(arr.dtype)\n"
   ]
  },
  {
   "cell_type": "markdown",
   "metadata": {},
   "source": [
    "Arrays are n-dimensional objects."
   ]
  },
  {
   "cell_type": "code",
   "execution_count": null,
   "metadata": {},
   "outputs": [],
   "source": [
    "a = np.array(42)\n",
    "b = np.array([1, 2, 3, 4, 5])\n",
    "c = np.array([[1, 2, 3], [4, 5, 6]])\n",
    "d = np.array([[[1, 2, 3], [4, 5, 6], [1, 2, 3], [4, 5, 6]]])\n",
    "\n",
    "\n",
    "print(a.ndim)\n",
    "print(b.ndim)\n",
    "print(c.ndim)\n",
    "print(d.ndim)"
   ]
  },
  {
   "cell_type": "code",
   "execution_count": null,
   "metadata": {},
   "outputs": [],
   "source": [
    "print('a',a)\n",
    "print('b',b)\n",
    "print('c',c)\n",
    "print('d',d)"
   ]
  },
  {
   "cell_type": "markdown",
   "metadata": {},
   "source": [
    "Indexing and slicing works the same way it did for lists, but keeping the dimensions of the array in mind"
   ]
  },
  {
   "cell_type": "code",
   "execution_count": null,
   "metadata": {},
   "outputs": [],
   "source": [
    "print(c.shape)\n",
    "print('2nd element on 1st row: ', c[0, 1])"
   ]
  },
  {
   "cell_type": "markdown",
   "metadata": {},
   "source": [
    "## Exercise 1\n",
    "Print the 3rd element in the 2nd row of array c. Then, print the entire second row. "
   ]
  },
  {
   "cell_type": "code",
   "execution_count": null,
   "metadata": {},
   "outputs": [],
   "source": []
  },
  {
   "cell_type": "code",
   "execution_count": null,
   "metadata": {},
   "outputs": [],
   "source": []
  },
  {
   "cell_type": "markdown",
   "metadata": {},
   "source": [
    "### Numpy includes Some Special Arrays"
   ]
  },
  {
   "cell_type": "code",
   "execution_count": null,
   "metadata": {},
   "outputs": [],
   "source": [
    "ones = np.ones((2,3))\n",
    "zeros = np.zeros((2,3))"
   ]
  },
  {
   "cell_type": "code",
   "execution_count": null,
   "metadata": {},
   "outputs": [],
   "source": [
    "print(ones)\n",
    "print(zeros)"
   ]
  },
  {
   "cell_type": "markdown",
   "metadata": {},
   "source": [
    "A `linspace` and `arange` are two special arrays that return evenly spaced numbers over a specified interval. \n",
    "<br/>\n",
    "<br/>\n",
    "\n",
    "`linspace`: `np.linspace(start, stop, number of samples)`\n",
    "<br/>\n",
    "<br/>\n",
    "`arange`: `np.arange(start, stop, step size)`\n",
    "<br/> \n",
    "Stop is excluded!"
   ]
  },
  {
   "cell_type": "code",
   "execution_count": null,
   "metadata": {},
   "outputs": [],
   "source": [
    "#an array of values that goes from 0 to 100 and has 21 evenly sampled values, i.e. with a step size of 5\n",
    "linspace = np.linspace(0,100,21) \n",
    "print(linspace)"
   ]
  },
  {
   "cell_type": "code",
   "execution_count": null,
   "metadata": {},
   "outputs": [],
   "source": [
    "#let's try to do the same thing but with arange\n",
    "\n",
    "arange = np.arange(0,105,5)\n",
    "print(arange)"
   ]
  },
  {
   "cell_type": "markdown",
   "metadata": {},
   "source": [
    "### Numpy is a numerical library that includes many useful mathematic and trigonometric functions, some of which include:\n",
    "\n",
    "1. The value of pi: `np.pi`\n",
    "2. The exponent function: `np.exp()`\n",
    "3. The trig functions: `np.sin()`, `np.cos()`, `np.tan()`\n",
    "4. And the inverse: `np.arcsin()`, `np.arccos()`, `np.arctan()`"
   ]
  },
  {
   "cell_type": "code",
   "execution_count": null,
   "metadata": {},
   "outputs": [],
   "source": [
    "print(np.pi)"
   ]
  },
  {
   "cell_type": "markdown",
   "metadata": {},
   "source": [
    "## Exercise 2\n",
    "Create a variable `theta` that is a linspace of 100 evenly spaced values between 0 and 2$\\pi$."
   ]
  },
  {
   "cell_type": "code",
   "execution_count": null,
   "metadata": {},
   "outputs": [],
   "source": []
  },
  {
   "cell_type": "code",
   "execution_count": null,
   "metadata": {},
   "outputs": [],
   "source": []
  },
  {
   "cell_type": "markdown",
   "metadata": {},
   "source": [
    "# Array Math"
   ]
  },
  {
   "cell_type": "code",
   "execution_count": null,
   "metadata": {},
   "outputs": [],
   "source": [
    "#Create an array\n",
    "nums = np.array(([1,2,3],[4,5,6],[7,8,9]))\n",
    "print(nums)\n",
    "print(nums.shape)"
   ]
  },
  {
   "cell_type": "code",
   "execution_count": null,
   "metadata": {},
   "outputs": [],
   "source": [
    "#Square it\n",
    "square = nums**2\n",
    "print(square)"
   ]
  },
  {
   "cell_type": "code",
   "execution_count": null,
   "metadata": {},
   "outputs": [],
   "source": [
    "#Make a second copy of the same array\n",
    "nums2 = np.copy(nums)\n",
    "print(nums2)"
   ]
  },
  {
   "cell_type": "code",
   "execution_count": null,
   "metadata": {},
   "outputs": [],
   "source": [
    "#Add two arrays\n",
    "add = nums + nums2\n",
    "print(add)"
   ]
  },
  {
   "cell_type": "code",
   "execution_count": null,
   "metadata": {},
   "outputs": [],
   "source": [
    "#Multiply them, since they are copies, this should match the squared array\n",
    "multiply = nums * nums2\n",
    "print(multiply)"
   ]
  },
  {
   "cell_type": "code",
   "execution_count": null,
   "metadata": {},
   "outputs": [],
   "source": [
    "#Divide them, since they are copies, this should be 1\n",
    "divide = nums / nums2\n",
    "print(divide)"
   ]
  },
  {
   "cell_type": "markdown",
   "metadata": {},
   "source": [
    "# Plots"
   ]
  },
  {
   "cell_type": "code",
   "execution_count": null,
   "metadata": {},
   "outputs": [],
   "source": [
    "xvals = np.linspace(0,100,100)\n",
    "yvals = xvals + 5\n",
    "\n",
    "fig, ax = plt.subplots(figsize=[12,6]) \n",
    "\n",
    "plot = ax.plot(xvals,yvals) #pass the arguments in the order x, y \n",
    "plot2 = ax.plot(xvals,yvals+5)\n",
    "\n",
    "ax.grid()\n",
    "\n",
    "plt.show()\n",
    "#plt.savefig('plot.jpg')"
   ]
  },
  {
   "cell_type": "markdown",
   "metadata": {},
   "source": [
    "## Exercise 3:\n",
    "Make a plot of sine vs. theta for your linspace of theta values.\n",
    "1. Compute the sine of each theta value by using array math and the function `np.sin`\n",
    "2. Plot the theta values on the x-axis, and the sine of the theta values on the y-axis"
   ]
  },
  {
   "cell_type": "code",
   "execution_count": null,
   "metadata": {},
   "outputs": [],
   "source": []
  }
 ],
 "metadata": {
  "kernelspec": {
   "display_name": "Python 3",
   "language": "python",
   "name": "python3"
  },
  "language_info": {
   "codemirror_mode": {
    "name": "ipython",
    "version": 3
   },
   "file_extension": ".py",
   "mimetype": "text/x-python",
   "name": "python",
   "nbconvert_exporter": "python",
   "pygments_lexer": "ipython3",
   "version": "3.7.4"
  }
 },
 "nbformat": 4,
 "nbformat_minor": 2
}
