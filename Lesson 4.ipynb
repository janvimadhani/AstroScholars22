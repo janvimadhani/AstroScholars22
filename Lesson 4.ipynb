{
 "cells": [
  {
   "cell_type": "markdown",
   "metadata": {},
   "source": [
    "# Introduction to Python Programming: Day 4\n",
    "1. Data Visualization\n",
    "2. Functions"
   ]
  },
  {
   "cell_type": "markdown",
   "metadata": {},
   "source": [
    "### Import Relevant Libraries"
   ]
  },
  {
   "cell_type": "code",
   "execution_count": null,
   "metadata": {},
   "outputs": [],
   "source": [
    "import numpy as np\n",
    "import matplotlib.pyplot as plt"
   ]
  },
  {
   "cell_type": "markdown",
   "metadata": {},
   "source": [
    "## Exercise 1.a\n",
    "Recreate the plot from yesterday of Sine vs. Theta\n"
   ]
  },
  {
   "cell_type": "code",
   "execution_count": null,
   "metadata": {},
   "outputs": [],
   "source": []
  },
  {
   "cell_type": "code",
   "execution_count": null,
   "metadata": {},
   "outputs": [],
   "source": []
  },
  {
   "cell_type": "markdown",
   "metadata": {},
   "source": [
    "## Exercise 1.b\n",
    "Now, change the labels of the axes, the title of the plot, the labels of the lines, the location of the legend, and experiment with colors and line styles!\n",
    "<br/>\n",
    "Resources:\n",
    "1. Legend locations (look at section \"Other Parameters: loc: \"): https://matplotlib.org/stable/api/_as_gen/matplotlib.axes.Axes.legend.html\n",
    "\n",
    "2. Choose different colors from here: https://matplotlib.org/2.0.2/examples/color/named_colors.html\n",
    "3. Choose different line styles from here: https://matplotlib.org/stable/gallery/lines_bars_and_markers/linestyles.html"
   ]
  },
  {
   "cell_type": "code",
   "execution_count": null,
   "metadata": {
    "scrolled": false
   },
   "outputs": [],
   "source": [
    "fig, ax = plt.subplots(figsize=[12,6])\n",
    "\n",
    "\n",
    "#Change the color, linestyle, and the label\n",
    "ax.plot(theta,np.sin(theta),c='cornflowerblue',linestyle='solid',label='Line 1')\n",
    "ax.plot(theta,np.cos(theta),c='mediumslateblue',linestyle='dashed',label='Line 2')\n",
    "ax.plot(theta,np.tan(theta),c='thistle',linestyle='dotted',label='Line 3')\n",
    "\n",
    "#Move the legend around\n",
    "ax.legend(loc='upper right')\n",
    "\n",
    "#Change these labels to represent what is plotted on each axis\n",
    "ax.set_xlabel('This is what is plotted on the x-axis')\n",
    "ax.set_ylabel('This is what is plotted on the y-axis')\n",
    "\n",
    "#Set the title to represent what is being shown\n",
    "ax.set_title('This is the title of the plot')\n",
    "\n",
    "#Play with these limits if you'd like! \n",
    "ax.set_ylim(-1.2,1.2)\n",
    "plt.show()"
   ]
  },
  {
   "cell_type": "code",
   "execution_count": null,
   "metadata": {},
   "outputs": [],
   "source": [
    "? ax.set_title"
   ]
  },
  {
   "cell_type": "markdown",
   "metadata": {},
   "source": [
    "## Functions\n",
    "\n",
    "A function is a block of code which only runs when it is called. You can pass data, known as parameters, into a function. A function can return data as a result.\n",
    "\n",
    "You define a function by using a `def` clause. \n",
    "\n",
    "For example, \n",
    "\n",
    "`def name of function (input parameters):`\n",
    "<br/>\n",
    "     `do something with input parameters`\n",
    "<br/>\n",
    "     `return output`\n",
    "\n"
   ]
  },
  {
   "cell_type": "code",
   "execution_count": null,
   "metadata": {},
   "outputs": [],
   "source": [
    "#doing a task\n",
    "def print_something(thing):\n",
    "    print(thing)\n",
    "    \n",
    "    \n",
    "#using a return statement to get back an output   \n",
    "def add_two_numbers(number1,number2):\n",
    "    \n",
    "    number3 = number1 + number2\n",
    "    \n",
    "    return number3\n",
    "\n",
    "#functions work similar to mathematical functions where y = f(x)\n",
    "def f(x):\n",
    "    y = x**2\n",
    "    return y"
   ]
  },
  {
   "cell_type": "code",
   "execution_count": null,
   "metadata": {},
   "outputs": [],
   "source": [
    "test1 = print_something('Hello, World!')"
   ]
  },
  {
   "cell_type": "code",
   "execution_count": null,
   "metadata": {},
   "outputs": [],
   "source": [
    "type(test1)"
   ]
  },
  {
   "cell_type": "code",
   "execution_count": null,
   "metadata": {},
   "outputs": [],
   "source": [
    "print_something('Hello again, World!')"
   ]
  },
  {
   "cell_type": "code",
   "execution_count": null,
   "metadata": {},
   "outputs": [],
   "source": [
    "test2 = add_two_numbers(1,3)"
   ]
  },
  {
   "cell_type": "code",
   "execution_count": null,
   "metadata": {},
   "outputs": [],
   "source": [
    "type(test2)"
   ]
  },
  {
   "cell_type": "code",
   "execution_count": null,
   "metadata": {
    "scrolled": true
   },
   "outputs": [],
   "source": [
    "print(test2)"
   ]
  },
  {
   "cell_type": "code",
   "execution_count": null,
   "metadata": {},
   "outputs": [],
   "source": [
    "f(2)"
   ]
  },
  {
   "cell_type": "markdown",
   "metadata": {},
   "source": [
    "Functions make code repeatable. You can use the same function repeatedly and assign the output to a new variable every time. "
   ]
  },
  {
   "cell_type": "code",
   "execution_count": null,
   "metadata": {
    "scrolled": true
   },
   "outputs": [],
   "source": [
    "test3 = add_two_numbers(4,5)\n",
    "print(test3)"
   ]
  },
  {
   "cell_type": "markdown",
   "metadata": {},
   "source": [
    "## Arguments and Multiple Returns\n",
    "You can specify something called default arguments. This is useful if you need a function that will mostly have a consistent argument but you may want to tune in some cases. \n",
    "\n",
    "Multiple returns are when a function returns multiple outputs. In this case, you will have to unpack the values."
   ]
  },
  {
   "cell_type": "markdown",
   "metadata": {},
   "source": [
    "### Default Arguments"
   ]
  },
  {
   "cell_type": "code",
   "execution_count": null,
   "metadata": {},
   "outputs": [],
   "source": [
    "def my_age(age='20'):\n",
    "    print('My age is ' + age + '.')"
   ]
  },
  {
   "cell_type": "code",
   "execution_count": null,
   "metadata": {},
   "outputs": [],
   "source": [
    "my_age()"
   ]
  },
  {
   "cell_type": "code",
   "execution_count": null,
   "metadata": {},
   "outputs": [],
   "source": [
    "my_age(age='24')"
   ]
  },
  {
   "cell_type": "markdown",
   "metadata": {},
   "source": [
    "### Multiple Returns"
   ]
  },
  {
   "cell_type": "code",
   "execution_count": null,
   "metadata": {},
   "outputs": [],
   "source": [
    "def quadratic_formula(a,b,c):\n",
    "    x1 = (-b + np.sqrt(b**2-4*a*c))/(2*a)\n",
    "    x2 = (-b - np.sqrt(b**2-4*a*c))/(2*a)\n",
    "    \n",
    "    return x1,x2"
   ]
  },
  {
   "cell_type": "code",
   "execution_count": null,
   "metadata": {},
   "outputs": [],
   "source": [
    "roots = quadratic_formula(1,5,6)\n",
    "print(roots)"
   ]
  },
  {
   "cell_type": "code",
   "execution_count": null,
   "metadata": {},
   "outputs": [],
   "source": [
    "root1, root2 = quadratic_formula(1,5,6)\n",
    "print(root1)\n",
    "print(root2)"
   ]
  },
  {
   "cell_type": "code",
   "execution_count": null,
   "metadata": {},
   "outputs": [],
   "source": [
    "print(roots[0],roots[1])"
   ]
  },
  {
   "cell_type": "markdown",
   "metadata": {},
   "source": [
    "## Exercise 2\n",
    "Find the roots of the equation $ x^2 - 7x + 12 $, where a = 1, b = -7, and c = 12."
   ]
  },
  {
   "cell_type": "code",
   "execution_count": null,
   "metadata": {},
   "outputs": [],
   "source": []
  },
  {
   "cell_type": "markdown",
   "metadata": {},
   "source": [
    "## Exercise 3.a \n",
    "\n",
    "Write a function for $y = m*x + b$ that takes an x value as its input, and returns a y value given the default input slope, $m = 2$, and slope intercept, $b = 3$, of a line. "
   ]
  },
  {
   "cell_type": "code",
   "execution_count": null,
   "metadata": {},
   "outputs": [],
   "source": []
  },
  {
   "cell_type": "code",
   "execution_count": null,
   "metadata": {},
   "outputs": [],
   "source": []
  },
  {
   "cell_type": "markdown",
   "metadata": {},
   "source": [
    "## Exercise 3.b\n",
    "\n",
    "If you have time, make a linspace of x values that goes from -10 to 10, use your function to calculate 3 lines, each with a different slope and intercept, using your function, and then plot the lines with different colors! Include labels to differentiate the lines and plot a legend. Adjust the axes to best represent your lines. "
   ]
  },
  {
   "cell_type": "code",
   "execution_count": null,
   "metadata": {},
   "outputs": [],
   "source": []
  },
  {
   "cell_type": "code",
   "execution_count": null,
   "metadata": {},
   "outputs": [],
   "source": []
  }
 ],
 "metadata": {
  "kernelspec": {
   "display_name": "Python 3",
   "language": "python",
   "name": "python3"
  },
  "language_info": {
   "codemirror_mode": {
    "name": "ipython",
    "version": 3
   },
   "file_extension": ".py",
   "mimetype": "text/x-python",
   "name": "python",
   "nbconvert_exporter": "python",
   "pygments_lexer": "ipython3",
   "version": "3.7.4"
  }
 },
 "nbformat": 4,
 "nbformat_minor": 2
}
