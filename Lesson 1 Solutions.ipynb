{
 "cells": [
  {
   "cell_type": "markdown",
   "metadata": {},
   "source": [
    "# Introduction to Python Programming: Day 1\n",
    "\n",
    "1. Import Statements\n",
    "2. Variables\n",
    "3. Markdown Cells"
   ]
  },
  {
   "cell_type": "markdown",
   "metadata": {},
   "source": [
    "### Import Statements\n",
    "In the first cell, you will usually import your packages which provide you with already written tools to interact with your data.\n",
    "<br/>\n",
    "Here are a couple of commonly used packages that we will learn how to use in the next few days:"
   ]
  },
  {
   "cell_type": "code",
   "execution_count": 1,
   "metadata": {},
   "outputs": [],
   "source": [
    "import numpy as np\n",
    "import matplotlib.pyplot as plt"
   ]
  },
  {
   "cell_type": "markdown",
   "metadata": {},
   "source": [
    "### Variables\n",
    "Assigning any string of text to a value is as simple as using an `=` sign\n",
    "`a = 1` assigns the value of `1` to the variable `a`\n",
    "Try assigning a value to a variable and print the variable to see what happens:"
   ]
  },
  {
   "cell_type": "code",
   "execution_count": 2,
   "metadata": {},
   "outputs": [
    {
     "name": "stdout",
     "output_type": "stream",
     "text": [
      "1\n"
     ]
    }
   ],
   "source": [
    "a = 1\n",
    "print(a)"
   ]
  },
  {
   "cell_type": "markdown",
   "metadata": {},
   "source": [
    "### Markdown\n",
    "Use the cell below to practice using markdown. \n",
    "There are two ways to do this: click on the left side of the cell, once the highlight turns blue, press `M` to turn the cell into a markdown cell OR click on the cell to highlight it (green or blue), then click Cell in the toolbar, click Cell Type, and choose Markdown. "
   ]
  },
  {
   "cell_type": "markdown",
   "metadata": {},
   "source": [
    "# This is a Heading\n",
    "## This is a Sub Heading\n",
    "### This is a Sub Sub Heading\n",
    "This is plain text\n",
    "`this is how you present code as text` \n",
    "$This is how you can write a LaTeX equation$\n",
    "\n"
   ]
  },
  {
   "cell_type": "markdown",
   "metadata": {},
   "source": [
    "Now practice writing markdown from scratch in the cell below.\n",
    "See https://www.caam.rice.edu/~heinken/latex/symbols.pdf for LaTeX commands to write mathematical symbols."
   ]
  },
  {
   "cell_type": "code",
   "execution_count": null,
   "metadata": {},
   "outputs": [],
   "source": []
  }
 ],
 "metadata": {
  "kernelspec": {
   "display_name": "Python 3",
   "language": "python",
   "name": "python3"
  },
  "language_info": {
   "codemirror_mode": {
    "name": "ipython",
    "version": 3
   },
   "file_extension": ".py",
   "mimetype": "text/x-python",
   "name": "python",
   "nbconvert_exporter": "python",
   "pygments_lexer": "ipython3",
   "version": "3.7.4"
  }
 },
 "nbformat": 4,
 "nbformat_minor": 2
}
